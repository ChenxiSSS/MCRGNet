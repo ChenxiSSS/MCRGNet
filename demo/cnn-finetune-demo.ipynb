{
 "cells": [
  {
   "cell_type": "markdown",
   "metadata": {},
   "source": [
    "### A demo for fine-tuning with our tool"
   ]
  },
  {
   "cell_type": "code",
   "execution_count": 1,
   "metadata": {},
   "outputs": [],
   "source": [
    "import matplotlib\n",
    "matplotlib.use('Agg')\n",
    "import matplotlib.pyplot as plt\n",
    "%matplotlib inline\n",
    "from matplotlib import gridspec"
   ]
  },
  {
   "cell_type": "code",
   "execution_count": 2,
   "metadata": {},
   "outputs": [],
   "source": [
    "import numpy as np\n",
    "import pickle\n",
    "import time\n",
    "import os\n",
    "\n",
    "import sys\n",
    "sys.setrecursionlimit(1000000)\n",
    "\n",
    "# from ConvAE_FT import ConvAE\n",
    "import ConvAE\n",
    "import utils"
   ]
  },
  {
   "cell_type": "code",
   "execution_count": 3,
   "metadata": {},
   "outputs": [],
   "source": [
    "# load data\n",
    "X_cnn_raw = []\n",
    "labels_cnn_raw = []\n",
    "num_grp = 3\n",
    "for i in range(num_grp):\n",
    "    fname = '../../LRG-fits/data/lrg_171029/sample-lrg-train-140-120-c3-gr{0}.pkl'.format(i)\n",
    "    with open(fname, 'rb') as fp:\n",
    "        datadict = pickle.load(fp)\n",
    "        X_cnn_raw.append(datadict['data'])\n",
    "        labels_cnn_raw.append(datadict['label'])\n",
    "    time.sleep(3)\n",
    "\n",
    "# Combine and normalization\n",
    "sample_mat = np.vstack(X_cnn_raw)\n",
    "del(X_cnn_raw)\n",
    "labels_cnn = np.hstack(labels_cnn_raw)\n",
    "del(labels_cnn_raw)\n",
    "\n",
    "rs = 120\n",
    "X_tr_cnn = sample_mat.reshape(-1,rs,rs,1).astype('float32')\n",
    "\n",
    "idx = np.random.permutation(len(labels_cnn))\n",
    "numsamples = 100000\n",
    "X_in = X_tr_cnn[idx[0:numsamples],:,:,:]\n",
    "# get labels\n",
    "X_out = labels_cnn[idx[0:numsamples]].astype('int32')\n",
    "\n",
    "mask_layer1 = [100,0,1,100,100,100,1,100]\n",
    "data_layer1,label_layer1 = utils.sub2multi(data=X_in, label=X_out, mask=mask_layer1)\n",
    "label_layer1_hotpot = utils.vec2onehot(label=label_layer1, numclass=2)"
   ]
  },
  {
   "cell_type": "code",
   "execution_count": 4,
   "metadata": {},
   "outputs": [],
   "source": [
    "# Construct the net\n",
    "numclass = 2\n",
    "encode_nodes = 64\n",
    "cnn = ConvAE.ConvAE(input_shape=data_layer1.shape,\n",
    "                      kernel_size=[3,3,3,3,3],\n",
    "                      kernel_num = [8,8,16,32,32],\n",
    "                      fc_nodes=[], encode_nodes=encode_nodes,\n",
    "                      padding=('SAME','SAME'),\n",
    "                      stride=(2,2),\n",
    "                      numclass = numclass,\n",
    "                      sess = None,\n",
    "                      name = None)\n",
    "cnn.cae_build()\n",
    "cnn.cnn_build(learning_rate=0.001) # In order to init the weights"
   ]
  },
  {
   "cell_type": "code",
   "execution_count": 5,
   "metadata": {},
   "outputs": [
    {
     "name": "stdout",
     "output_type": "stream",
     "text": [
      "INFO:tensorflow:Restoring parameters from ./net-pretrained/model-pretrain.ckpt\n"
     ]
    }
   ],
   "source": [
    "# load pretrained net\n",
    "foldname = \"./net-pretrained/\"\n",
    "name = \"pretrained.pkl\"\n",
    "cnn.sess, cnn.name = utils.load_net(os.path.join(foldname, name))"
   ]
  },
  {
   "cell_type": "code",
   "execution_count": 6,
   "metadata": {},
   "outputs": [
    {
     "name": "stdout",
     "output_type": "stream",
     "text": [
      "[2017-12-12: 19:58:46] Training parameters\n",
      "\n",
      "[2017-12-12: 19:58:46] Epochs: 50\tLearning rate: 0.00\n",
      "\n",
      "[2017-12-12: 19:58:46] Batch size: 100\tDrop rate: 0.50\n",
      "\n",
      "[2017-12-12: 19:58:49] Epoch: 001 Trn loss: 0.678274 Trn acc: 0.570 Val loss: 0.585572 Val acc: 0.728\n",
      "[2017-12-12: 19:58:51] Epoch: 002 Trn loss: 0.489413 Trn acc: 0.823 Val loss: 0.466349 Val acc: 0.844\n",
      "[2017-12-12: 19:58:53] Epoch: 003 Trn loss: 0.468325 Trn acc: 0.841 Val loss: 0.463335 Val acc: 0.848\n",
      "[2017-12-12: 19:58:55] Epoch: 004 Trn loss: 0.463741 Trn acc: 0.846 Val loss: 0.471561 Val acc: 0.838\n",
      "[2017-12-12: 19:58:58] Epoch: 005 Trn loss: 0.459368 Trn acc: 0.851 Val loss: 0.449925 Val acc: 0.864\n",
      "[2017-12-12: 19:59:00] Epoch: 006 Trn loss: 0.453617 Trn acc: 0.858 Val loss: 0.453615 Val acc: 0.858\n",
      "[2017-12-12: 19:59:02] Epoch: 007 Trn loss: 0.451586 Trn acc: 0.860 Val loss: 0.453357 Val acc: 0.855\n",
      "[2017-12-12: 19:59:05] Epoch: 008 Trn loss: 0.449689 Trn acc: 0.861 Val loss: 0.448163 Val acc: 0.862\n",
      "[2017-12-12: 19:59:07] Epoch: 009 Trn loss: 0.446594 Trn acc: 0.865 Val loss: 0.446978 Val acc: 0.866\n",
      "[2017-12-12: 19:59:09] Epoch: 010 Trn loss: 0.443836 Trn acc: 0.868 Val loss: 0.440599 Val acc: 0.874\n",
      "[2017-12-12: 19:59:11] Epoch: 011 Trn loss: 0.442533 Trn acc: 0.870 Val loss: 0.443216 Val acc: 0.863\n",
      "[2017-12-12: 19:59:14] Epoch: 012 Trn loss: 0.437235 Trn acc: 0.873 Val loss: 0.442464 Val acc: 0.863\n",
      "[2017-12-12: 19:59:16] Epoch: 013 Trn loss: 0.439957 Trn acc: 0.872 Val loss: 0.438168 Val acc: 0.872\n",
      "[2017-12-12: 19:59:18] Epoch: 014 Trn loss: 0.435983 Trn acc: 0.876 Val loss: 0.436005 Val acc: 0.875\n",
      "[2017-12-12: 19:59:20] Epoch: 015 Trn loss: 0.427495 Trn acc: 0.885 Val loss: 0.431598 Val acc: 0.880\n",
      "[2017-12-12: 19:59:23] Epoch: 016 Trn loss: 0.425841 Trn acc: 0.887 Val loss: 0.427796 Val acc: 0.884\n",
      "[2017-12-12: 19:59:25] Epoch: 017 Trn loss: 0.425647 Trn acc: 0.886 Val loss: 0.431319 Val acc: 0.878\n",
      "[2017-12-12: 19:59:27] Epoch: 018 Trn loss: 0.419505 Trn acc: 0.893 Val loss: 0.423045 Val acc: 0.891\n",
      "[2017-12-12: 19:59:29] Epoch: 019 Trn loss: 0.415702 Trn acc: 0.897 Val loss: 0.420006 Val acc: 0.893\n",
      "[2017-12-12: 19:59:32] Epoch: 020 Trn loss: 0.409738 Trn acc: 0.902 Val loss: 0.414151 Val acc: 0.899\n",
      "[2017-12-12: 19:59:34] Epoch: 021 Trn loss: 0.406797 Trn acc: 0.907 Val loss: 0.414676 Val acc: 0.893\n",
      "[2017-12-12: 19:59:36] Epoch: 022 Trn loss: 0.404842 Trn acc: 0.907 Val loss: 0.411476 Val acc: 0.900\n",
      "[2017-12-12: 19:59:38] Epoch: 023 Trn loss: 0.402478 Trn acc: 0.910 Val loss: 0.412136 Val acc: 0.897\n",
      "[2017-12-12: 19:59:40] Epoch: 024 Trn loss: 0.401861 Trn acc: 0.911 Val loss: 0.411638 Val acc: 0.897\n",
      "[2017-12-12: 19:59:43] Epoch: 025 Trn loss: 0.401668 Trn acc: 0.910 Val loss: 0.417024 Val acc: 0.890\n",
      "[2017-12-12: 19:59:45] Epoch: 026 Trn loss: 0.396250 Trn acc: 0.917 Val loss: 0.406719 Val acc: 0.905\n",
      "[2017-12-12: 19:59:47] Epoch: 027 Trn loss: 0.395914 Trn acc: 0.917 Val loss: 0.409651 Val acc: 0.901\n",
      "[2017-12-12: 19:59:49] Epoch: 028 Trn loss: 0.394008 Trn acc: 0.919 Val loss: 0.404318 Val acc: 0.906\n",
      "[2017-12-12: 19:59:51] Epoch: 029 Trn loss: 0.390943 Trn acc: 0.922 Val loss: 0.403010 Val acc: 0.906\n",
      "[2017-12-12: 19:59:54] Epoch: 030 Trn loss: 0.389656 Trn acc: 0.923 Val loss: 0.413180 Val acc: 0.900\n",
      "[2017-12-12: 19:59:56] Epoch: 031 Trn loss: 0.390819 Trn acc: 0.922 Val loss: 0.401335 Val acc: 0.908\n",
      "[2017-12-12: 19:59:58] Epoch: 032 Trn loss: 0.390947 Trn acc: 0.921 Val loss: 0.401016 Val acc: 0.908\n",
      "[2017-12-12: 20:00:00] Epoch: 033 Trn loss: 0.387882 Trn acc: 0.925 Val loss: 0.401878 Val acc: 0.907\n",
      "[2017-12-12: 20:00:02] Epoch: 034 Trn loss: 0.388673 Trn acc: 0.924 Val loss: 0.403972 Val acc: 0.905\n",
      "[2017-12-12: 20:00:04] Epoch: 035 Trn loss: 0.386434 Trn acc: 0.926 Val loss: 0.401297 Val acc: 0.908\n",
      "[2017-12-12: 20:00:07] Epoch: 036 Trn loss: 0.385885 Trn acc: 0.927 Val loss: 0.404210 Val acc: 0.907\n",
      "[2017-12-12: 20:00:09] Epoch: 037 Trn loss: 0.382605 Trn acc: 0.930 Val loss: 0.400357 Val acc: 0.908\n",
      "[2017-12-12: 20:00:11] Epoch: 038 Trn loss: 0.380223 Trn acc: 0.933 Val loss: 0.395410 Val acc: 0.913\n",
      "[2017-12-12: 20:00:13] Epoch: 039 Trn loss: 0.380479 Trn acc: 0.932 Val loss: 0.396667 Val acc: 0.915\n",
      "[2017-12-12: 20:00:15] Epoch: 040 Trn loss: 0.379035 Trn acc: 0.933 Val loss: 0.403140 Val acc: 0.907\n",
      "[2017-12-12: 20:00:17] Epoch: 041 Trn loss: 0.380757 Trn acc: 0.933 Val loss: 0.396013 Val acc: 0.917\n",
      "[2017-12-12: 20:00:20] Epoch: 042 Trn loss: 0.383586 Trn acc: 0.929 Val loss: 0.393899 Val acc: 0.919\n",
      "[2017-12-12: 20:00:22] Epoch: 043 Trn loss: 0.377111 Trn acc: 0.937 Val loss: 0.401640 Val acc: 0.909\n",
      "[2017-12-12: 20:00:24] Epoch: 044 Trn loss: 0.384670 Trn acc: 0.928 Val loss: 0.398290 Val acc: 0.913\n",
      "[2017-12-12: 20:00:26] Epoch: 045 Trn loss: 0.375488 Trn acc: 0.937 Val loss: 0.399257 Val acc: 0.911\n",
      "[2017-12-12: 20:00:29] Epoch: 046 Trn loss: 0.375581 Trn acc: 0.938 Val loss: 0.390670 Val acc: 0.919\n",
      "[2017-12-12: 20:00:31] Epoch: 047 Trn loss: 0.372898 Trn acc: 0.940 Val loss: 0.388177 Val acc: 0.923\n",
      "[2017-12-12: 20:00:33] Epoch: 048 Trn loss: 0.372374 Trn acc: 0.941 Val loss: 0.389547 Val acc: 0.920\n",
      "[2017-12-12: 20:00:35] Epoch: 049 Trn loss: 0.375738 Trn acc: 0.937 Val loss: 0.389506 Val acc: 0.920\n",
      "[2017-12-12: 20:00:37] Epoch: 050 Trn loss: 0.372643 Trn acc: 0.940 Val loss: 0.386338 Val acc: 0.926\n"
     ]
    }
   ],
   "source": [
    "# training\n",
    "num_epochs = 50\n",
    "learning_rate = 0.0005\n",
    "batch_size = 100\n",
    "droprate = 0.5\n",
    "cnn.cnn_train(data=data_layer1, label=label_layer1_hotpot, num_epochs=num_epochs, learning_rate=learning_rate,\n",
    "              batch_size=batch_size, droprate=droprate)"
   ]
  },
  {
   "cell_type": "code",
   "execution_count": 7,
   "metadata": {},
   "outputs": [
    {
     "data": {
      "text/plain": [
       "<matplotlib.legend.Legend at 0x7fb52c0e39e8>"
      ]
     },
     "execution_count": 7,
     "metadata": {},
     "output_type": "execute_result"
    },
    {
     "data": {
      "image/png": "[encoded data removed]",
      "text/plain": [
       "<matplotlib.figure.Figure at 0x7fb52fae3c50>"
      ]
     },
     "metadata": {},
     "output_type": "display_data"
    }
   ],
   "source": [
    "# Plot the curves\n",
    "epochs = np.arange(1,num_epochs+1)\n",
    "plt.rcParams[\"figure.figsize\"] = [12.0, 4.0]\n",
    "gs = gridspec.GridSpec(1, 2, width_ratios=[1,1])\n",
    "\n",
    "ax0 = plt.subplot(gs[0])\n",
    "ax0.plot(epochs, cnn.cnn_trainloss)\n",
    "ax0.plot(epochs, cnn.cnn_valloss)\n",
    "plt.ylabel(\"Loss\", fontsize=12)\n",
    "plt.legend([\"Training loss\", \"Validation loss\"], fontsize=12)\n",
    "\n",
    "ax1 = plt.subplot(gs[1])\n",
    "ax1.plot(epochs, cnn.cnn_trainacc)\n",
    "ax1.plot(epochs, cnn.cnn_valacc)\n",
    "plt.ylabel(\"Accuracy\", fontsize=12)\n",
    "plt.legend([\"Training acc\", \"Validation acc\"], fontsize=12)"
   ]
  },
  {
   "cell_type": "code",
   "execution_count": 10,
   "metadata": {},
   "outputs": [],
   "source": [
    "# save loss and accuracies\n",
    "foldname = \"Branch3\"\n",
    "if os.path.exists(foldname):\n",
    "    os.remove(foldname)\n",
    "os.mkdir(foldname)\n",
    "fname = \"loss_l3.pkl\"\n",
    "folder= \"{0}/\".format(foldname)\n",
    "with open(os.path.join(folder,fname), 'wb') as fp:\n",
    "    loss_dict={\"loss_train\": cnn.cnn_trainloss,\n",
    "               \"loss_val\": cnn.cnn_valloss,\n",
    "               \"acc_train\": cnn.cnn_trainacc,\n",
    "               \"acc_val\": cnn.cnn_valacc}\n",
    "    pickle.dump(loss_dict, fp)"
   ]
  },
  {
   "cell_type": "code",
   "execution_count": 11,
   "metadata": {
    "collapsed": true
   },
   "outputs": [],
   "source": [
    "# save net\n",
    "foldname = \"{0}/net_l3\".format(foldname)\n",
    "name = \"net_l3.pkl\"\n",
    "netname = \"model-l3.ckpt\"\n",
    "if os.path.exists(foldname):\n",
    "    os.system(\"rm -r %s\" % (foldname))\n",
    "os.mkdir(foldname)\n",
    "cnn.cnn_save(namepath=os.path.join(foldname, name),\n",
    "             netpath=os.path.join(foldname, netname))"
   ]
  }
 ],
 "metadata": {
  "kernelspec": {
   "display_name": "Python 3",
   "language": "python",
   "name": "python3"
  },
  "language_info": {
   "codemirror_mode": {
    "name": "ipython",
    "version": 3
   },
   "file_extension": ".py",
   "mimetype": "text/x-python",
   "name": "python",
   "nbconvert_exporter": "python",
   "pygments_lexer": "ipython3",
   "version": "3.5.3"
  }
 },
 "nbformat": 4,
 "nbformat_minor": 2
}
