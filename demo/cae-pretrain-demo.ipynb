{
 "cells": [
  {
   "cell_type": "markdown",
   "metadata": {},
   "source": [
    "### A demo for pretraining with our CAE tool"
   ]
  },
  {
   "cell_type": "code",
   "execution_count": 1,
   "metadata": {
    "collapsed": true
   },
   "outputs": [],
   "source": [
    "import matplotlib\n",
    "matplotlib.use('Agg')\n",
    "import matplotlib.pyplot as plt\n",
    "%matplotlib inline"
   ]
  },
  {
   "cell_type": "code",
   "execution_count": 2,
   "metadata": {
    "collapsed": true
   },
   "outputs": [],
   "source": [
    "import numpy as np\n",
    "import pickle\n",
    "import time\n",
    "import os\n",
    "\n",
    "import sys\n",
    "sys.setrecursionlimit(1000000)\n",
    "\n",
    "import ConvAE\n",
    "import utils"
   ]
  },
  {
   "cell_type": "code",
   "execution_count": 3,
   "metadata": {},
   "outputs": [],
   "source": [
    "# load data\n",
    "X_raw = []\n",
    "num_grp = 8\n",
    "for i in range(num_grp):\n",
    "    fname = '../../BH12/data/BH12_171020/sample-BH-120-120-10-c3-gr{0}.pkl'.format(i)\n",
    "    with open(fname, 'rb') as fp:\n",
    "        datadict = pickle.load(fp)\n",
    "        X_raw.append(datadict['data'])\n",
    "    time.sleep(3)\n",
    "\n",
    "# Combine and normalization\n",
    "X_pre = np.vstack(X_raw)\n",
    "del(X_raw)"
   ]
  },
  {
   "cell_type": "code",
   "execution_count": 4,
   "metadata": {},
   "outputs": [],
   "source": [
    "rs = 120\n",
    "X_tr = X_pre.reshape(-1,rs,rs,1).astype('float32')\n",
    "\n",
    "# Construct the network\n",
    "numclass = 2\n",
    "encode_nodes = 64\n",
    "cae = ConvAE.ConvAE(input_shape=X_tr.shape,\n",
    "            kernel_size=[3,3,3,3,3],\n",
    "            kernel_num = [8,8,16,32,32],\n",
    "            fc_nodes=[], encode_nodes=encode_nodes,\n",
    "            padding=('SAME','SAME'),\n",
    "            stride=(2,2),\n",
    "            numclass = numclass)\n",
    "cae.cae_build()\n",
    "cae.cnn_build(learning_rate=0.0005)"
   ]
  },
  {
   "cell_type": "code",
   "execution_count": 5,
   "metadata": {},
   "outputs": [
    {
     "name": "stdout",
     "output_type": "stream",
     "text": [
      "[2017-12-13: 13:02:23] Training parameters\n",
      "\n",
      "[2017-12-13: 13:02:23] Epochs: 20\tLearning rate: 0.00\n",
      "\n",
      "[2017-12-13: 13:02:23] Batch size: 100\tDrop rate: 0.50\n",
      "\n",
      "[2017-12-13: 13:02:54] Epoch: 001\tTraining loss: 0.001262\tValidation loss: 0.001155\n",
      "[2017-12-13: 13:03:24] Epoch: 002\tTraining loss: 0.001126\tValidation loss: 0.001048\n",
      "[2017-12-13: 13:03:55] Epoch: 003\tTraining loss: 0.000893\tValidation loss: 0.000592\n",
      "[2017-12-13: 13:04:25] Epoch: 004\tTraining loss: 0.000522\tValidation loss: 0.000452\n",
      "[2017-12-13: 13:04:56] Epoch: 005\tTraining loss: 0.000448\tValidation loss: 0.000415\n",
      "[2017-12-13: 13:05:25] Epoch: 006\tTraining loss: 0.000418\tValidation loss: 0.000396\n",
      "[2017-12-13: 13:05:56] Epoch: 007\tTraining loss: 0.000399\tValidation loss: 0.000382\n",
      "[2017-12-13: 13:06:27] Epoch: 008\tTraining loss: 0.000386\tValidation loss: 0.000372\n",
      "[2017-12-13: 13:06:57] Epoch: 009\tTraining loss: 0.000378\tValidation loss: 0.000370\n",
      "[2017-12-13: 13:07:28] Epoch: 010\tTraining loss: 0.000371\tValidation loss: 0.000362\n",
      "[2017-12-13: 13:07:59] Epoch: 011\tTraining loss: 0.000366\tValidation loss: 0.000358\n",
      "[2017-12-13: 13:08:30] Epoch: 012\tTraining loss: 0.000361\tValidation loss: 0.000358\n",
      "[2017-12-13: 13:09:01] Epoch: 013\tTraining loss: 0.000358\tValidation loss: 0.000354\n",
      "[2017-12-13: 13:09:31] Epoch: 014\tTraining loss: 0.000356\tValidation loss: 0.000349\n",
      "[2017-12-13: 13:10:02] Epoch: 015\tTraining loss: 0.000353\tValidation loss: 0.000347\n",
      "[2017-12-13: 13:10:32] Epoch: 016\tTraining loss: 0.000351\tValidation loss: 0.000346\n",
      "[2017-12-13: 13:11:03] Epoch: 017\tTraining loss: 0.000349\tValidation loss: 0.000347\n",
      "[2017-12-13: 13:11:34] Epoch: 018\tTraining loss: 0.000348\tValidation loss: 0.000344\n",
      "[2017-12-13: 13:12:05] Epoch: 019\tTraining loss: 0.000346\tValidation loss: 0.000343\n",
      "[2017-12-13: 13:12:35] Epoch: 020\tTraining loss: 0.000345\tValidation loss: 0.000341\n"
     ]
    }
   ],
   "source": [
    "# Train the network\n",
    "num_epochs = 20\n",
    "learning_rate = 0.001\n",
    "batch_size = 100\n",
    "droprate = 0.5\n",
    "cae.cae_train(data=X_tr, num_epochs=num_epochs, learning_rate=learning_rate,\n",
    "              batch_size=batch_size, droprate=droprate)"
   ]
  },
  {
   "cell_type": "code",
   "execution_count": 6,
   "metadata": {},
   "outputs": [],
   "source": [
    "# save the pre-trained network\n",
    "foldname = \"./net-pretrained\"\n",
    "name = \"pretrained.pkl\"\n",
    "netname = \"model-pretrain.ckpt\"\n",
    "if os.path.exists(foldname):\n",
    "    os.system(\"rm -r %s\" % (foldname))\n",
    "os.mkdir(foldname)\n",
    "cae.cae_save(namepath=os.path.join(foldname, name),\n",
    "             netpath=os.path.join(foldname, netname))"
   ]
  },
  {
   "cell_type": "code",
   "execution_count": 7,
   "metadata": {},
   "outputs": [
    {
     "name": "stdout",
     "output_type": "stream",
     "text": [
      "(10, 120, 120, 1)\n"
     ]
    },
    {
     "name": "stderr",
     "output_type": "stream",
     "text": [
      "/home/mzx/.local/lib/python3.5/site-packages/matplotlib/figure.py:403: UserWarning: matplotlib is currently using a non-GUI backend, so cannot show the figure\n",
      "  \"matplotlib is currently using a non-GUI backend, \"\n"
     ]
    },
    {
     "data": {
      "image/png": "[encoded data removed]",
      "text/plain": [
       "<matplotlib.figure.Figure at 0x7f8f0e8516a0>"
      ]
     },
     "metadata": {},
     "output_type": "display_data"
    }
   ],
   "source": [
    "## Show the reconstructed results\n",
    "n_examples = 10\n",
    "idx = np.random.permutation(len(X_tr))\n",
    "test_xs = X_tr[idx[0:n_examples],:,:,:].astype('float32')\n",
    "\n",
    "recon = cae.cae_test(img=test_xs)\n",
    "print(recon.shape)\n",
    "\n",
    "def gen_norm(img):\n",
    "    return (img-img.min())/(img.max() - img.min())\n",
    "\n",
    "fig, axs = plt.subplots(2, n_examples, figsize=(n_examples, 2))\n",
    "for example_i in range(n_examples):\n",
    "    # raw\n",
    "    axs[0][example_i].imshow(\n",
    "        np.reshape(test_xs[example_i, :], (rs, rs)), cmap='gray')\n",
    "    axs[0][example_i].axis('off')\n",
    "    # learned\n",
    "    axs[1][example_i].imshow(\n",
    "        np.reshape(\n",
    "            np.reshape(recon[example_i, ...], (rs**2,)),\n",
    "            (rs, rs)), cmap='gray')\n",
    "    axs[1][example_i].axis('off')\n",
    "\n",
    "fig.show()\n",
    "plt.draw()"
   ]
  },
  {
   "cell_type": "code",
   "execution_count": null,
   "metadata": {
    "collapsed": true
   },
   "outputs": [],
   "source": []
  }
 ],
 "metadata": {
  "kernelspec": {
   "display_name": "Python 3",
   "language": "python",
   "name": "python3"
  },
  "language_info": {
   "codemirror_mode": {
    "name": "ipython",
    "version": 3
   },
   "file_extension": ".py",
   "mimetype": "text/x-python",
   "name": "python",
   "nbconvert_exporter": "python",
   "pygments_lexer": "ipython3",
   "version": "3.5.3"
  }
 },
 "nbformat": 4,
 "nbformat_minor": 2
}
